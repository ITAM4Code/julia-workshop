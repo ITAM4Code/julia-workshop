{
 "cells": [
  {
   "cell_type": "markdown",
   "id": "7f060f16",
   "metadata": {},
   "source": [
    "# Introducción a Julia\n",
    "\n",
    "## Filosofía y porqué Julia\n",
    "\n",
    "## Ejemplitos de código"
   ]
  },
  {
   "cell_type": "code",
   "execution_count": 1,
   "id": "6d39a4d0",
   "metadata": {},
   "outputs": [
    {
     "name": "stdout",
     "output_type": "stream",
     "text": [
      "[0.283451693166334 0.7226554270233261 0.2724098827650432; 0.9933156334698419 0.2689094132869436 0.6437640298962664; 0.8591289515707718 0.1257721890422696 0.34345464314207685]"
     ]
    }
   ],
   "source": [
    "A = rand(3, 3)\n",
    "print(A)"
   ]
  },
  {
   "cell_type": "code",
   "execution_count": null,
   "id": "a19ba861",
   "metadata": {},
   "outputs": [],
   "source": []
  }
 ],
 "metadata": {
  "jupytext": {
   "cell_metadata_filter": "-all",
   "formats": "ipynb,md",
   "main_language": "julia"
  },
  "kernelspec": {
   "display_name": "Julia 1.6.1",
   "language": "julia",
   "name": "julia-1.6"
  },
  "language_info": {
   "file_extension": ".jl",
   "mimetype": "application/julia",
   "name": "julia",
   "version": "1.6.1"
  }
 },
 "nbformat": 4,
 "nbformat_minor": 5
}
