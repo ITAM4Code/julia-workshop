{
 "cells": [
  {
   "cell_type": "markdown",
   "id": "7f060f16",
   "metadata": {},
   "source": [
    "# Introducción a Julia\n",
    "\n",
    "> We want a language that's open source, with a liberal license. We \n",
    "> want the speed of C with the dynamism of Ruby. We want a language \n",
    "> that's homoiconic, with true macros like Lisp, but with obvious, \n",
    "> familiar mathematical notation like Matlab. We want something as \n",
    "> usable for general programming as Python, as easy for statistics as \n",
    "> R, as natural for string processing as Perl, as powerful for linear \n",
    "> algebra as Matlab, as good at gluing programs together as the shell. \n",
    "> Something that is dirt simple to learn, yet keeps the most serious \n",
    "> hackers happy. We want it interactive and we want it compiled.\n",
    ">\n",
    "> (Did we mention it should be as fast as C?)\n",
    "\n",
    "Los creadores de Julia: [Why we created \n",
    "Julia](https://julialang.org/blog/2012/02/why-we-created-julia/)\n",
    "\n",
    "Es decir:\n",
    "\n",
    "- (Casi) tan rápido como C.\n",
    "- Dinámico y general como Python.\n",
    "- Notación obvia para matemáticas y poderoso para álgebra lineal como \n",
    "  Matlab.\n",
    "- Tan bueno para estadística como R.\n",
    "\n",
    "## Filosofía y porqué Julia\n",
    "\n",
    "> Schools (and this includes all educational activities) influence the \n",
    "> future of society through what they teach. They should teach \n",
    "> exclusively free software, so as to use their influence for the \n",
    "> good. To teach a proprietary program is to implant dependence, which \n",
    "> goes against the mission of education. By training in use of free \n",
    "> software, schools will direct society's future towards freedom, and \n",
    "> help talented programmers master the craft.\n",
    "\n",
    "Richard Stallman: [Free Software Is Even More Important \n",
    "Now](https://www.gnu.org/philosophy/free-software-even-more-important.en.html)\n",
    "\n",
    "----\n",
    "\n",
    "En el ITAM es muy común el uso de Matlab. Parte del objetivo de este \n",
    "curso es presentar a Julia como una mejor alternativa a Matlab en \n",
    "general y como alternativa seria a otros lenguajes como Python y R.  \n",
    "Una de sus ventajas más notorias es ser órdenes de magnitud [más \n",
    "rápido](https://towardsdatascience.com/r-vs-python-vs-julia-90456a2bcbab) \n",
    "que los lenguajes mencionados anteriormente, pero escribir código \n",
    "rápido no requiere dos doctorados.\n",
    "\n",
    "Comparado a Matlab, Julia es mucho más rápido, software libre (no más \n",
    "depender de la licencia académica del ITAM!) y mucho más adecuado a \n",
    "tareas generales. Matlab suele ser bueno y útil para el álgebra lineal \n",
    "gracias a su sintaxis limpia y familiar. Julia la conserva y añade \n",
    "mucho poder. \n",
    "\n",
    "Comparado a R, Julia también es mucho más rápido y más adecuado a \n",
    "tareas generales más allá de el cómputo estadístico. Julia tiene la \n",
    "habilidad de manipular Data Frames como R, integrarse con $\\LaTeX$ \n",
    "fácilmente y producir visualizaciones de alta calidad. Pero Julia a \n",
    "diferencia de R si presta para todo tipo de programas, lo cual no es \n",
    "fácil decir de R.\n",
    "\n",
    "Quizás la comparación más apta sea con Python. Python es uno de los \n",
    "lenguajes de programación más populares y es usado para casi toda la \n",
    "clase de cómputo que se pueda imaginar, y goza de un ecosistema \n",
    "envidiable. Entonces, ¿por qué Julia y no Python? Python es un \n",
    "lenguaje *muy* lento para estándares modernos. Y en particular para el \n",
    "uso que buscamos darle, el cómputo numérico es, siendo generosos, \n",
    "menos que disfrutable. Por ejemplo, tomemos una operación común en el \n",
    "álgebra lineal: conjugar una matriz.\n",
    "\n",
    "$$\n",
    "A = P D P^{-1}\n",
    "$$\n",
    "\n",
    "En Python, usando numpy que es la librería que permite la \n",
    "multiplicación matricial, esta operación se haría como:"
   ]
  },
  {
   "cell_type": "code",
   "execution_count": null,
   "id": "7b092726",
   "metadata": {},
   "outputs": [],
   "source": [
    "%%python\n",
    "# No ideal\n",
    "A = np.dot(P, np.dot(D, np.inv(P)))\n",
    "\n",
    "# Menos malo\n",
    "A = np.linalg.multi_dot([P, D, np.inv(P)])"
   ]
  },
  {
   "cell_type": "markdown",
   "id": "40a8a63c",
   "metadata": {},
   "source": [
    "Mientras que en Julia, no podría ser más simple:"
   ]
  },
  {
   "cell_type": "code",
   "execution_count": null,
   "id": "c3e80af5",
   "metadata": {},
   "outputs": [],
   "source": [
    "A = P * D * P^-1"
   ]
  },
  {
   "cell_type": "markdown",
   "id": "ac7dda67",
   "metadata": {},
   "source": [
    "El ejemplo de Python tiene dos formas distintas de hacerse porque \n",
    "ambas se pueden encontrar en código \"profesional\", a pesar de que la \n",
    "primera es considerada mala práctica. La sintaxis compleja \n",
    "necesariamente introduce oportunidades para malas prácticas, y crea \n",
    "situaciones en las que no es fácil escribir buen código. Por ejemplo, \n",
    "la implementación de `multi_dot` permite reacomodar las matrices para \n",
    "acelerar el cálculo y reducir la propagación del condicionamiento \n",
    "numérico [^1], pero uno no sabría eso sin leer la documentación.  \n",
    "Julia hace estas optimizaciones y otras mucho más avanzadas de manera \n",
    "directa y transparente al usuario.\n",
    "\n",
    "[^1]: Documentación de numpy\n",
    "  [](https://numpy.org/doc/stable/reference/generated/numpy.linalg.multi_dot.html#numpy.linalg.multi_dot)\n",
    "\n",
    "## Ejemplitos de código"
   ]
  },
  {
   "cell_type": "code",
   "execution_count": 1,
   "id": "6d39a4d0",
   "metadata": {},
   "outputs": [
    {
     "name": "stdout",
     "output_type": "stream",
     "text": [
      "[0.283451693166334 0.7226554270233261 0.2724098827650432; 0.9933156334698419 0.2689094132869436 0.6437640298962664; 0.8591289515707718 0.1257721890422696 0.34345464314207685]"
     ]
    }
   ],
   "source": [
    "A = rand(3, 3)\n",
    "print(A)"
   ]
  }
 ],
 "metadata": {
  "jupytext": {
   "cell_metadata_filter": "-all",
   "formats": "ipynb,md"
  },
  "kernelspec": {
   "display_name": "Julia 1.6.1",
   "language": "julia",
   "name": "julia-1.6"
  },
  "language_info": {
   "file_extension": ".jl",
   "mimetype": "application/julia",
   "name": "julia",
   "version": "1.6.1"
  }
 },
 "nbformat": 4,
 "nbformat_minor": 5
}
